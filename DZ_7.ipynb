{
 "cells": [
  {
   "cell_type": "markdown",
   "id": "literary-condition",
   "metadata": {},
   "source": [
    "# Домашнее задание \"Теория вероятности. Дискретные Случайные Величины"
   ]
  },
  {
   "cell_type": "markdown",
   "id": "eligible-guess",
   "metadata": {},
   "source": [
    "#### Уровень 0:\n",
    "Задание 1:\n",
    "Монетку подбрасывают 15 раз, найдите вероятность выпадения простого числа орлов."
   ]
  },
  {
   "cell_type": "code",
   "execution_count": 1,
   "id": "broke-resident",
   "metadata": {},
   "outputs": [
    {
     "name": "stdout",
     "output_type": "stream",
     "text": [
      "Вероятность выпадения орла 1 раз -  P1 = 0.00046\n",
      "Вероятность выпадения орла 2 раз -  P1 = 0.00320\n",
      "Вероятность выпадения орла 3 раз -  P1 = 0.01389\n",
      "Вероятность выпадения орла 4 раз -  P1 = 0.04166\n",
      "Вероятность выпадения орла 5 раз -  P1 = 0.09164\n",
      "Вероятность выпадения орла 6 раз -  P1 = 0.15274\n",
      "Вероятность выпадения орла 7 раз -  P1 = 0.19638\n",
      "Вероятность выпадения орла 8 раз -  P1 = 0.19638\n",
      "Вероятность выпадения орла 9 раз -  P1 = 0.15274\n",
      "Вероятность выпадения орла 10 раз -  P1 = 0.09164\n",
      "Вероятность выпадения орла 11 раз -  P1 = 0.04166\n",
      "Вероятность выпадения орла 12 раз -  P1 = 0.01389\n",
      "Вероятность выпадения орла 13 раз -  P1 = 0.00320\n",
      "Вероятность выпадения орла 14 раз -  P1 = 0.00046\n",
      "Вероятность выпадения орла 15 раз -  P1 = 0.00003\n",
      "\n",
      "Проверка: P = 1\n"
     ]
    }
   ],
   "source": [
    "import math\n",
    "from scipy.stats import *\n",
    "import matplotlib.pyplot as plt\n",
    "k = 1\n",
    "\n",
    "# вероятность выпадения орешки в каждом броске одинакова и равна p=1/2=0.5\n",
    "# Ckn=Akn/k!=n!/(n−k)!*k!=n⋅(n−1)⋅...⋅(n−k+1)/k! - возможное количество сочетаний\n",
    "# P= Pn(k)=Ckn * p**k * (1−p)**n−k   - формула Бернулли\n",
    "n = 15\n",
    "p = 0.5\n",
    "P = 0\n",
    "for i in range(15):\n",
    "    if k <= 15:\n",
    "        g  = math.factorial(n)\n",
    "        g1 = math.factorial(n-k)\n",
    "        g2 = math.factorial(k)\n",
    "        Ckn = g / ( g1 * g2)\n",
    "        P1 = Ckn * (p**k) * ((1- p)**(n - k))                        \n",
    "        print ('Вероятность выпадения орла', k, 'раз - ', \"P1 = {:.5f}\".format(P1))   \n",
    "        k += 1\n",
    "        P += P1\n",
    "    else:\n",
    "        end\n",
    "print (_)\n",
    "        \n",
    "print('Проверка:',\"P = {:.0f}\".format(P))      "
   ]
  },
  {
   "cell_type": "markdown",
   "id": "similar-tuition",
   "metadata": {},
   "source": [
    "Задание 2:\n",
    "Создайте свою дискретную случайную величину с не менее, чем 10 значениями. Просемплируйте 1000 случайных значений, постройте гистограмму плотности распределения по выборке, посчитайте среднее, дисперсию и медиану."
   ]
  },
  {
   "cell_type": "code",
   "execution_count": 2,
   "id": "equivalent-completion",
   "metadata": {},
   "outputs": [],
   "source": [
    "import numpy as np"
   ]
  },
  {
   "cell_type": "code",
   "execution_count": 3,
   "id": "behind-better",
   "metadata": {},
   "outputs": [],
   "source": [
    "data = [np.random.randint( low =1 , high =11, size = ( 2 , 10 ))  for _ in range(1000)]"
   ]
  },
  {
   "cell_type": "code",
   "execution_count": 13,
   "id": "municipal-brooks",
   "metadata": {},
   "outputs": [],
   "source": [
    "# плотность распределения в случайной выборке data\n",
    "sum_of_values = sum(data)\n",
    "data1 = []\n",
    "for i in data:\n",
    "    normalized_values = i / sum(data)\n",
    "    data1.append(normalized_values ) "
   ]
  },
  {
   "cell_type": "code",
   "execution_count": 14,
   "id": "steady-august",
   "metadata": {},
   "outputs": [],
   "source": [
    "data2 = []\n",
    "for i in data1:\n",
    "    for j in i:\n",
    "        for n in j:\n",
    "            data2.append(n)"
   ]
  },
  {
   "cell_type": "code",
   "execution_count": 6,
   "id": "parental-restriction",
   "metadata": {},
   "outputs": [
    {
     "data": {
      "text/plain": [
       "(array([1953., 1976., 2000., 2067., 2005., 1962., 2031., 1927., 2024.,\n",
       "        2055.]),\n",
       " array([0.00017624, 0.00034319, 0.00051013, 0.00067708, 0.00084403,\n",
       "        0.00101097, 0.00117792, 0.00134486, 0.00151181, 0.00167875,\n",
       "        0.0018457 ]),\n",
       " <BarContainer object of 10 artists>)"
      ]
     },
     "execution_count": 6,
     "metadata": {},
     "output_type": "execute_result"
    },
    {
     "data": {
      "image/png": "[encoded data removed]",
      "text/plain": [
       "<Figure size 432x288 with 1 Axes>"
      ]
     },
     "metadata": {
      "needs_background": "light"
     },
     "output_type": "display_data"
    }
   ],
   "source": [
    "plt.hist(data2)"
   ]
  },
  {
   "cell_type": "code",
   "execution_count": 7,
   "id": "gorgeous-woman",
   "metadata": {},
   "outputs": [
    {
     "name": "stdout",
     "output_type": "stream",
     "text": [
      "среднее по выборке :  5.51845\n"
     ]
    }
   ],
   "source": [
    "print(\"среднее по выборке : \", np.mean(data))"
   ]
  },
  {
   "cell_type": "code",
   "execution_count": 8,
   "id": "appropriate-shakespeare",
   "metadata": {},
   "outputs": [
    {
     "name": "stdout",
     "output_type": "stream",
     "text": [
      "дисперсия по выборке :  8.2455595975\n"
     ]
    }
   ],
   "source": [
    "print(\"дисперсия по выборке : \", np.var(data))"
   ]
  },
  {
   "cell_type": "code",
   "execution_count": 9,
   "id": "local-tissue",
   "metadata": {},
   "outputs": [
    {
     "name": "stdout",
     "output_type": "stream",
     "text": [
      "медиана по выборке :  5.0\n"
     ]
    }
   ],
   "source": [
    "print(\"медиана по выборке : \", np.median(data))"
   ]
  },
  {
   "cell_type": "markdown",
   "id": "happy-buying",
   "metadata": {},
   "source": [
    "### Уровень 1\n",
    "Задание 3:\n",
    "Пусть брошены 3 уравновешенные монеты.\n",
    "\n",
    "Рассмотрим 3 события:\n",
    "\n",
    "A1 - монеты 1 и 2 упали одной и той же стороной;\n",
    "\n",
    "A2 - монеты 2 и 3 упали одной и той же стороной;\n",
    "\n",
    "A3 - монеты 1 и 3 упали одной и той же стороной.\n",
    "\n",
    "Покажите, почему эти 3 события (A1, A2, A3) являются попарно независимыми, но не являются независимыми в совокупности."
   ]
  },
  {
   "cell_type": "markdown",
   "id": "vertical-algorithm",
   "metadata": {},
   "source": [
    "В теории вероятностей два случайных события называются независимыми, если наступление одного из них не изменяет вероятность наступления другого. Аналогично, две случайные величины называют независимыми, если известное значение одной из них не дает информации о другой. Совместная независимость влечет попарную независимость"
   ]
  },
  {
   "attachments": {
    "image.png": {
     "image/png": "[encoded data removed]"
    }
   },
   "cell_type": "markdown",
   "id": "green-adventure",
   "metadata": {},
   "source": [
    "события попарно независимы, если любые два события из этого семейства независимы, то есть\n",
    "\n",
    "![image.png](attachment:image.png)"
   ]
  },
  {
   "cell_type": "markdown",
   "id": "interesting-delay",
   "metadata": {},
   "source": [
    "P(Ai ∩ Aj)= 1 / 4.\n",
    "\n",
    "P(Ai) = 1/2\n",
    "\n",
    "P(Aj) = 1/2.\n",
    "\n",
    "P(Ai ∩ Aj)= 1 / 4 = (1/2)*(1/2) = P(Ai) * P(Aj)"
   ]
  },
  {
   "cell_type": "markdown",
   "id": "harmful-prime",
   "metadata": {},
   "source": [
    "С другой стороны, они не являются в совокупности независимыми:\n",
    "\n",
    "P(Ai ∩ Aj)= 1 / 4    ≠  (1/2)*(1/2)*(1/2) = P(A1) * P(A2)* P(A3)"
   ]
  },
  {
   "cell_type": "markdown",
   "id": "early-cherry",
   "metadata": {},
   "source": [
    "Задание 4 (формула полной вероятности):\n",
    "В магазин привезли устройства с 3-х разных предприятий.\n",
    "\n",
    "Соотношение устройств следующее: 20% - продукция первого предприятия, 30% - продукция второго предприятия, 50% - продукция третьего предприятия; далее, 10% продукции первого предприятия высшего сорта, на втором предприятии - 5% и на третьем - 20% продукции высшего сорта.\n",
    "\n",
    "Найти вероятность того, что случайно купленная новая продукция окажется высшего сорта."
   ]
  },
  {
   "cell_type": "markdown",
   "id": "aggregate-tobago",
   "metadata": {},
   "source": [
    "Обозначим:\n",
    "\n",
    "A - событие, заключающееся в том, что будет куплена продукция высшего сорта.\n",
    "\n",
    "B1,B2,B3 - события, заключающиеся в покупке продукции, принадлежащей соответственно первому, второму и третьему предприятиям."
   ]
  },
  {
   "attachments": {
    "image.png": {
     "image/png": "[encoded data removed]"
    }
   },
   "cell_type": "markdown",
   "id": "electrical-dublin",
   "metadata": {},
   "source": [
    "Применим формулу полной вероятности:\n",
    "    ![image.png](attachment:image.png)    "
   ]
  },
  {
   "cell_type": "code",
   "execution_count": 12,
   "id": "fatal-robinson",
   "metadata": {},
   "outputs": [
    {
     "name": "stdout",
     "output_type": "stream",
     "text": [
      "вероятность того, что случайно купленная новая продукция окажется высшего сорта :  0.135\n"
     ]
    }
   ],
   "source": [
    "PB1 = 0.2 # вероятность события В1\n",
    "PB2 = 0.3 # вероятность события В2\n",
    "PB3 = 0.5 # вероятность события В3\n",
    "PAB1 = 0.1\n",
    "PAB2 = 0.05\n",
    "PAB3 = 0.2\n",
    "\n",
    "P = PAB1*PB1 + PAB2*PB2 + PAB3*PB3\n",
    "\n",
    "print(\"вероятность того, что случайно купленная новая продукция окажется высшего сорта : \", P)"
   ]
  }
 ],
 "metadata": {
  "kernelspec": {
   "display_name": "Python 3",
   "language": "python",
   "name": "python3"
  },
  "language_info": {
   "codemirror_mode": {
    "name": "ipython",
    "version": 3
   },
   "file_extension": ".py",
   "mimetype": "text/x-python",
   "name": "python",
   "nbconvert_exporter": "python",
   "pygments_lexer": "ipython3",
   "version": "3.8.5"
  }
 },
 "nbformat": 4,
 "nbformat_minor": 5
}
